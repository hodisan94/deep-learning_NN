{
 "cells": [
  {
   "cell_type": "markdown",
   "metadata": {},
   "source": [
    "**Part 1**"
   ]
  },
  {
   "cell_type": "code",
   "execution_count": 55,
   "metadata": {},
   "outputs": [],
   "source": [
    "import numpy as np\n",
    "\n",
    "def initialize_parameters(layer_dims):\n",
    "    np.random.seed(42)\n",
    "    parameters = {}\n",
    "    L = len(layer_dims)\n",
    "\n",
    "    for l in range(1, L):\n",
    "        parameters[f\"W{l}\"] = np.random.randn(layer_dims[l], layer_dims[l-1]) * np.sqrt(2. / layer_dims[l-1])\n",
    "        parameters[f\"b{l}\"] = np.zeros((layer_dims[l], 1))\n",
    "\n",
    "    return parameters\n",
    "\n"
   ]
  },
  {
   "cell_type": "markdown",
   "metadata": {},
   "source": [
    "**Test the function initialize_parameters**\n"
   ]
  },
  {
   "cell_type": "code",
   "execution_count": 56,
   "metadata": {},
   "outputs": [
    {
     "name": "stdout",
     "output_type": "stream",
     "text": [
      "(20, 784)\n",
      "(20, 1)\n",
      "(10, 5)\n",
      "(10, 1)\n"
     ]
    }
   ],
   "source": [
    "layer_dims = [784, 20, 7, 5, 10]\n",
    "parameters = initialize_parameters(layer_dims)\n",
    "print(parameters[\"W1\"].shape)  # Should print (20, 784)\n",
    "print(parameters[\"b1\"].shape)  # Should print (20, 1)\n",
    "print(parameters[\"W4\"].shape)  # Should print (10, 5)\n",
    "print(parameters[\"b4\"].shape)  # Should print (10, 1)\n"
   ]
  },
  {
   "cell_type": "code",
   "execution_count": 7,
   "metadata": {},
   "outputs": [],
   "source": [
    "def linear_forward(A, W, b):\n",
    "    \"\"\"\n",
    "    Compute the linear part of a layer's forward propagation.\n",
    "    \n",
    "    Arguments:\n",
    "    A -- activations from previous layer\n",
    "    W -- weights matrix of current layer\n",
    "    b -- bias vector of current layer\n",
    "    \n",
    "    Returns:\n",
    "    Z -- linear component (W.A + b)\n",
    "    linear_cache -- tuple (A, W, b) for backpropagation\n",
    "    \"\"\"\n",
    "    Z = np.dot(W, A) + b\n",
    "    linear_cache = (A, W, b)\n",
    "    return Z, linear_cache\n"
   ]
  },
  {
   "cell_type": "markdown",
   "metadata": {},
   "source": [
    "**Test the function linear_forward**\n"
   ]
  },
  {
   "cell_type": "code",
   "execution_count": 8,
   "metadata": {},
   "outputs": [
    {
     "name": "stdout",
     "output_type": "stream",
     "text": [
      "Z shape: (4, 2)\n",
      "Z: [[ 0.48338097  0.15237448]\n",
      " [-1.33390458 -2.08407482]\n",
      " [ 0.7505205  -1.0779219 ]\n",
      " [-1.23465366 -1.76418096]]\n"
     ]
    }
   ],
   "source": [
    "np.random.seed(42)\n",
    "A_prev = np.random.randn(3, 2)\n",
    "W = np.random.randn(4, 3)\n",
    "b = np.random.randn(4, 1)\n",
    "\n",
    "Z, cache = linear_forward(A_prev, W, b)\n",
    "print(\"Z shape:\", Z.shape)  # Should be (4, 2)\n",
    "print(\"Z:\", Z)\n"
   ]
  },
  {
   "cell_type": "markdown",
   "metadata": {},
   "source": [
    "**Softmax**"
   ]
  },
  {
   "cell_type": "code",
   "execution_count": 9,
   "metadata": {},
   "outputs": [],
   "source": [
    "def softmax(Z):\n",
    "    \"\"\"\n",
    "    Implements the softmax activation function.\n",
    "\n",
    "    Arguments:\n",
    "    Z -- numpy array of shape (number of classes, number of examples)\n",
    "\n",
    "    Returns:\n",
    "    A -- output of softmax(Z), same shape as Z\n",
    "    activation_cache -- returns Z for use in backpropagation\n",
    "    \"\"\"\n",
    "    Z_shifted = Z - np.max(Z, axis=0, keepdims=True)  # for numerical stability\n",
    "    exp_Z = np.exp(Z_shifted)\n",
    "    A = exp_Z / np.sum(exp_Z, axis=0, keepdims=True)\n",
    "    \n",
    "    activation_cache = Z\n",
    "    return A, activation_cache\n"
   ]
  },
  {
   "cell_type": "code",
   "execution_count": 10,
   "metadata": {},
   "outputs": [],
   "source": [
    "def relu(Z):\n",
    "    \"\"\"\n",
    "    Implements the ReLU activation function.\n",
    "\n",
    "    Arguments:\n",
    "    Z -- numpy array of any shape\n",
    "\n",
    "    Returns:\n",
    "    A -- output of relu(Z), same shape as Z\n",
    "    activation_cache -- returns Z for use in backpropagation\n",
    "    \"\"\"\n",
    "    A = np.maximum(0, Z)\n",
    "    activation_cache = Z\n",
    "    return A, activation_cache\n"
   ]
  },
  {
   "cell_type": "code",
   "execution_count": 11,
   "metadata": {},
   "outputs": [
    {
     "name": "stdout",
     "output_type": "stream",
     "text": [
      "ReLU result:\n",
      " [[1 0 0]\n",
      " [2 0 3]]\n",
      "Softmax result:\n",
      " [[0.26894142 0.73105858 0.04742587]\n",
      " [0.73105858 0.26894142 0.95257413]]\n"
     ]
    }
   ],
   "source": [
    "Z = np.array([[1, -1, 0],\n",
    "              [2, -2, 3]])\n",
    "\n",
    "A_relu, cache_relu = relu(Z)\n",
    "A_softmax, cache_softmax = softmax(Z)\n",
    "\n",
    "print(\"ReLU result:\\n\", A_relu)\n",
    "print(\"Softmax result:\\n\", A_softmax)\n"
   ]
  },
  {
   "cell_type": "code",
   "execution_count": 12,
   "metadata": {},
   "outputs": [],
   "source": [
    "def linear_activation_forward(A_prev, W, B, activation):\n",
    "    \"\"\"\n",
    "    Implements forward propagation for LINEAR -> ACTIVATION.\n",
    "\n",
    "    Arguments:\n",
    "    A_prev -- activations from previous layer\n",
    "    W -- weights matrix\n",
    "    B -- bias vector\n",
    "    activation -- the activation function to use: \"relu\" or \"softmax\"\n",
    "\n",
    "    Returns:\n",
    "    A -- output of the activation function\n",
    "    cache -- dictionary containing linear_cache and activation_cache\n",
    "    \"\"\"\n",
    "    Z, linear_cache = linear_forward(A_prev, W, B)\n",
    "\n",
    "    if activation == \"relu\":\n",
    "        A, activation_cache = relu(Z)\n",
    "    elif activation == \"softmax\":\n",
    "        A, activation_cache = softmax(Z)\n",
    "    else:\n",
    "        raise ValueError(\"Activation must be 'relu' or 'softmax'\")\n",
    "\n",
    "    cache = {\n",
    "        \"linear_cache\": linear_cache,\n",
    "        \"activation_cache\": activation_cache\n",
    "    }\n",
    "\n",
    "    return A, cache\n"
   ]
  },
  {
   "cell_type": "code",
   "execution_count": 13,
   "metadata": {},
   "outputs": [
    {
     "name": "stdout",
     "output_type": "stream",
     "text": [
      "ReLU output:\n",
      " [[0.48338097 0.15237448]\n",
      " [0.         0.        ]\n",
      " [0.7505205  0.        ]\n",
      " [0.         0.        ]]\n",
      "Softmax output:\n",
      " [[0.37762821 0.64676528]\n",
      " [0.0613518  0.06909858]\n",
      " [0.49326653 0.18898867]\n",
      " [0.06775346 0.09514747]]\n"
     ]
    }
   ],
   "source": [
    "np.random.seed(42)\n",
    "A_prev = np.random.randn(3, 2)\n",
    "W = np.random.randn(4, 3)\n",
    "B = np.random.randn(4, 1)\n",
    "\n",
    "A_relu, cache_relu = linear_activation_forward(A_prev, W, B, activation=\"relu\")\n",
    "print(\"ReLU output:\\n\", A_relu)\n",
    "\n",
    "A_softmax, cache_softmax = linear_activation_forward(A_prev, W, B, activation=\"softmax\")\n",
    "print(\"Softmax output:\\n\", A_softmax)\n"
   ]
  },
  {
   "cell_type": "code",
   "execution_count": 18,
   "metadata": {},
   "outputs": [],
   "source": [
    "def l_model_forward(X, parameters, use_batchnorm=False):\n",
    "    \"\"\"\n",
    "    Implements forward pass for [LINEAR->RELU]*(L-1) -> LINEAR -> SOFTMAX.\n",
    "\n",
    "    Arguments:\n",
    "    X -- input data\n",
    "    parameters -- dictionary containing W1...WL, b1...bL\n",
    "    use_batchnorm -- whether to apply batch normalization after activation\n",
    "\n",
    "    Returns:\n",
    "    AL -- last post-activation value\n",
    "    caches -- list of caches from each layer\n",
    "    \"\"\"\n",
    "    caches = []\n",
    "    A = X\n",
    "    L = len(parameters) // 2  # number of layers\n",
    "\n",
    "    for l in range(1, L):\n",
    "        A_prev = A\n",
    "        W = parameters[f\"W{l}\"]\n",
    "        b = parameters[f\"b{l}\"]\n",
    "        A, cache = linear_activation_forward(A_prev, W, b, activation=\"relu\")\n",
    "\n",
    "        if use_batchnorm:\n",
    "            A = apply_batchnorm(A)\n",
    "\n",
    "        caches.append(cache)\n",
    "\n",
    "    # Final layer: LINEAR -> SOFTMAX\n",
    "    WL = parameters[f\"W{L}\"]\n",
    "    bL = parameters[f\"b{L}\"]\n",
    "    AL, cache = linear_activation_forward(A, WL, bL, activation=\"softmax\")\n",
    "    caches.append(cache)\n",
    "\n",
    "    return AL, caches\n"
   ]
  },
  {
   "cell_type": "code",
   "execution_count": 14,
   "metadata": {},
   "outputs": [],
   "source": [
    "def compute_cost(AL, Y):\n",
    "    \"\"\"\n",
    "    Implements the categorical cross-entropy loss function.\n",
    "\n",
    "    Arguments:\n",
    "    AL -- probability predictions from softmax, shape (num_classes, m)\n",
    "    Y -- true labels (one-hot encoded), shape (num_classes, m)\n",
    "\n",
    "    Returns:\n",
    "    cost -- cross-entropy cost (scalar)\n",
    "    \"\"\"\n",
    "    m = Y.shape[1]\n",
    "\n",
    "    # Avoid log(0) by adding small epsilon\n",
    "    epsilon = 1e-15\n",
    "    AL = np.clip(AL, epsilon, 1 - epsilon)\n",
    "\n",
    "    cost = -np.sum(Y * np.log(AL)) / m\n",
    "    return cost\n"
   ]
  },
  {
   "cell_type": "code",
   "execution_count": 15,
   "metadata": {},
   "outputs": [
    {
     "name": "stdout",
     "output_type": "stream",
     "text": [
      "Cost: 0.164252033486018\n"
     ]
    }
   ],
   "source": [
    "Y = np.array([[1, 0], [0, 1]])  # true labels (2 classes, 2 samples)\n",
    "AL = np.array([[0.8, 0.1], [0.2, 0.9]])  # predictions\n",
    "\n",
    "cost = compute_cost(AL, Y)\n",
    "print(\"Cost:\", cost)  # Should be a small positive number\n"
   ]
  },
  {
   "cell_type": "markdown",
   "metadata": {},
   "source": [
    "**BatchNorm**"
   ]
  },
  {
   "cell_type": "code",
   "execution_count": 19,
   "metadata": {},
   "outputs": [],
   "source": [
    "def apply_batchnorm(A, epsilon=1e-8):\n",
    "    \"\"\"\n",
    "    Applies batch normalization to the activation values of a layer.\n",
    "\n",
    "    Arguments:\n",
    "    A -- activation values of shape (layer size, number of examples)\n",
    "    epsilon -- small float to prevent division by zero\n",
    "\n",
    "    Returns:\n",
    "    NA -- normalized activations (same shape as A)\n",
    "    \"\"\"\n",
    "    mu = np.mean(A, axis=1, keepdims=True)\n",
    "    var = np.var(A, axis=1, keepdims=True)\n",
    "    NA = (A - mu) / np.sqrt(var + epsilon)\n",
    "    return NA\n"
   ]
  },
  {
   "cell_type": "code",
   "execution_count": 20,
   "metadata": {},
   "outputs": [
    {
     "name": "stdout",
     "output_type": "stream",
     "text": [
      "Before normalization: mean = [-0.22077365 -0.34418034 -0.34990549  0.13905794  0.24136955]\n",
      "After normalization: mean = [ 4.44089210e-17 -2.22044605e-17 -8.46545056e-17  5.55111512e-18\n",
      "  2.22044605e-17]\n"
     ]
    }
   ],
   "source": [
    "A = np.random.randn(5, 10)\n",
    "NA = apply_batchnorm(A)\n",
    "print(\"Before normalization: mean =\", np.mean(A, axis=1))\n",
    "print(\"After normalization: mean =\", np.mean(NA, axis=1))  # should be ~0\n"
   ]
  },
  {
   "cell_type": "markdown",
   "metadata": {},
   "source": [
    "**Part 2**"
   ]
  },
  {
   "cell_type": "code",
   "execution_count": 21,
   "metadata": {},
   "outputs": [],
   "source": [
    "def linear_backward(dZ, cache):\n",
    "    \"\"\"\n",
    "    Implements the linear part of the backward propagation for a single layer.\n",
    "\n",
    "    Arguments:\n",
    "    dZ -- Gradient of the cost with respect to Z, shape (n_l, m)\n",
    "    cache -- tuple of (A_prev, W, b) from the forward pass\n",
    "\n",
    "    Returns:\n",
    "    dA_prev -- Gradient wrt previous layer activations\n",
    "    dW -- Gradient wrt weights\n",
    "    db -- Gradient wrt biases\n",
    "    \"\"\"\n",
    "    A_prev, W, b = cache\n",
    "    m = A_prev.shape[1]\n",
    "\n",
    "    dW = np.dot(dZ, A_prev.T) / m\n",
    "    db = np.sum(dZ, axis=1, keepdims=True) / m\n",
    "    dA_prev = np.dot(W.T, dZ)\n",
    "\n",
    "    return dA_prev, dW, db"
   ]
  },
  {
   "cell_type": "code",
   "execution_count": 22,
   "metadata": {},
   "outputs": [],
   "source": [
    "def linear_activation_backward(dA, cache, activation):\n",
    "    \"\"\"\n",
    "    Implements the backward propagation for LINEAR->ACTIVATION layer.\n",
    "\n",
    "    Arguments:\n",
    "    dA -- post-activation gradient\n",
    "    cache -- tuple of (linear_cache, activation_cache)\n",
    "    activation -- \"relu\" or \"softmax\"\n",
    "\n",
    "    Returns:\n",
    "    dA_prev, dW, db -- gradients for previous layer, weights, and biases\n",
    "    \"\"\"\n",
    "    linear_cache, activation_cache = cache\n",
    "\n",
    "    if activation == \"relu\":\n",
    "        Z = activation_cache\n",
    "        dZ = np.array(dA, copy=True)\n",
    "        dZ[Z <= 0] = 0\n",
    "\n",
    "    elif activation == \"softmax\":\n",
    "        # Softmax + Cross-Entropy: dA is already (AL - Y)\n",
    "        dZ = dA\n",
    "\n",
    "    else:\n",
    "        raise ValueError(\"Unsupported activation. Use 'relu' or 'softmax'.\")\n",
    "\n",
    "    return linear_backward(dZ, linear_cache)\n"
   ]
  },
  {
   "cell_type": "code",
   "execution_count": 23,
   "metadata": {},
   "outputs": [],
   "source": [
    "def relu_backward(dA, activation_cache):\n",
    "    \"\"\"\n",
    "    Implements backward propagation for a ReLU unit.\n",
    "\n",
    "    Arguments:\n",
    "    dA -- post-activation gradient, same shape as Z\n",
    "    activation_cache -- Z (from forward propagation)\n",
    "\n",
    "    Returns:\n",
    "    dZ -- gradient of the cost with respect to Z\n",
    "    \"\"\"\n",
    "    Z = activation_cache\n",
    "    dZ = np.array(dA, copy=True)\n",
    "    dZ[Z <= 0] = 0\n",
    "    return dZ\n"
   ]
  },
  {
   "cell_type": "code",
   "execution_count": 29,
   "metadata": {},
   "outputs": [],
   "source": [
    "def softmax_backward(dA, activation_cache):\n",
    "    \"\"\"\n",
    "    Implements backward propagation for a softmax unit.\n",
    "\n",
    "    Arguments:\n",
    "    dA -- post-activation gradient (assumed to be AL - Y), shape (classes, m)\n",
    "    activation_cache -- Z (pre-activation values from forward propagation)\n",
    "\n",
    "    Returns:\n",
    "    dZ -- gradient of the cost with respect to Z (same as dA in this case)\n",
    "    \"\"\"\n",
    "    Z = activation_cache\n",
    "    Z_shifted = Z - np.max(Z, axis=0, keepdims=True)  # for stability\n",
    "    exp_Z = np.exp(Z_shifted)\n",
    "    softmax = exp_Z / np.sum(exp_Z, axis=0, keepdims=True)\n",
    "\n",
    "    # In most practical cases, dA is AL - Y, so:\n",
    "    dZ = dA  # already the correct gradient for softmax + cross-entropy\n",
    "    return dZ\n"
   ]
  },
  {
   "cell_type": "code",
   "execution_count": 24,
   "metadata": {},
   "outputs": [],
   "source": [
    "def l_model_backward(AL, Y, caches):\n",
    "    \"\"\"\n",
    "    Implements the full backward propagation for [LINEAR->RELU]*(L-1) -> LINEAR->SOFTMAX\n",
    "\n",
    "    Arguments:\n",
    "    AL -- softmax output from forward propagation, shape (classes, m)\n",
    "    Y -- true labels (one-hot), same shape as AL\n",
    "    caches -- list of caches from each layer (from forward propagation)\n",
    "\n",
    "    Returns:\n",
    "    grads -- dictionary of gradients: dA, dW, db for each layer\n",
    "    \"\"\"\n",
    "    grads = {}\n",
    "    L = len(caches)\n",
    "    m = AL.shape[1]\n",
    "\n",
    "    # 1 Output layer (Softmax)\n",
    "    current_cache = caches[-1]\n",
    "    dZL = AL - Y  # ∂L/∂Z for softmax + cross-entropy\n",
    "    dA_prev, dW, db = linear_backward(dZL, current_cache[\"linear_cache\"])\n",
    "    \n",
    "    grads[f\"dA{L}\"] = dA_prev\n",
    "    grads[f\"dW{L}\"] = dW\n",
    "    grads[f\"db{L}\"] = db\n",
    "\n",
    "    # 2 Hidden layers (ReLU)\n",
    "    for l in reversed(range(L - 1)):\n",
    "        current_cache = caches[l]\n",
    "        dA = grads[f\"dA{l+2}\"]\n",
    "        dZ = relu_backward(dA, current_cache[\"activation_cache\"])\n",
    "        dA_prev, dW, db = linear_backward(dZ, current_cache[\"linear_cache\"])\n",
    "\n",
    "        grads[f\"dA{l+1}\"] = dA_prev\n",
    "        grads[f\"dW{l+1}\"] = dW\n",
    "        grads[f\"db{l+1}\"] = db\n",
    "\n",
    "    return grads\n"
   ]
  },
  {
   "cell_type": "code",
   "execution_count": 25,
   "metadata": {},
   "outputs": [],
   "source": [
    "def update_parameters(parameters, grads, learning_rate):\n",
    "    \"\"\"\n",
    "    Updates weights and biases using gradient descent.\n",
    "\n",
    "    Arguments:\n",
    "    parameters -- dictionary containing W1...WL and b1...bL\n",
    "    grads -- dictionary containing dW1...dWL and db1...dbL\n",
    "    learning_rate -- scalar learning rate\n",
    "\n",
    "    Returns:\n",
    "    parameters -- updated dictionary with new weights and biases\n",
    "    \"\"\"\n",
    "    L = len(parameters) // 2  # number of layers\n",
    "\n",
    "    for l in range(1, L + 1):\n",
    "        parameters[f\"W{l}\"] -= learning_rate * grads[f\"dW{l}\"]\n",
    "        parameters[f\"b{l}\"] -= learning_rate * grads[f\"db{l}\"]\n",
    "\n",
    "    return parameters\n"
   ]
  },
  {
   "cell_type": "markdown",
   "metadata": {},
   "source": [
    "**Tests for Part 2**"
   ]
  },
  {
   "cell_type": "code",
   "execution_count": 33,
   "metadata": {},
   "outputs": [
    {
     "name": "stdout",
     "output_type": "stream",
     "text": [
      "linear_backward:\n",
      "dA_prev:\n",
      " [[-0.87596241  3.15776973]\n",
      " [-2.24081818  6.23229549]\n",
      " [-1.06441566  1.11304416]] \n",
      "dW:\n",
      " [[-0.27749007  1.21567825 -0.14639757]\n",
      " [ 0.0697697  -0.80983366  0.12540482]\n",
      " [ 0.2886844  -0.66331421  0.04662148]\n",
      " [ 0.18734896 -1.42467878  0.20496254]] \n",
      "db:\n",
      " [[ 0.62528579]\n",
      " [-0.53560408]\n",
      " [-0.19914937]\n",
      " [-0.87540326]]\n",
      "-------------------------\n",
      "\n",
      "\n",
      "relu_backward:\n",
      "dZ:\n",
      " [[ 0.0675282  -1.42474819]\n",
      " [ 0.          0.        ]\n",
      " [-1.15099358  0.        ]\n",
      " [ 0.          0.        ]]\n",
      "-------------------------\n",
      "\n",
      "\n",
      "softmax_backward:\n",
      "dZ:\n",
      " [[-0.2   0.1 ]\n",
      " [ 0.1  -0.2 ]\n",
      " [ 0.05  0.05]\n",
      " [ 0.05  0.05]]\n",
      "-------------------------\n",
      "\n",
      "\n",
      "linear_activation_backward (ReLU):\n",
      "dA_prev:\n",
      " [[-0.17185561 -2.24998059]\n",
      " [ 2.25399676 -1.09340124]\n",
      " [ 1.95366658  0.66888278]] \n",
      "dW:\n",
      " [[ 0.11526701 -1.06309839  0.15888712]\n",
      " [ 0.          0.          0.        ]\n",
      " [-0.2858574  -0.37274267  0.13475452]\n",
      " [ 0.          0.          0.        ]] \n",
      "db:\n",
      " [[-0.67860999]\n",
      " [ 0.        ]\n",
      " [-0.57549679]\n",
      " [ 0.        ]]\n",
      "-------------------------\n",
      "\n",
      "\n",
      "l_model_backward:\n",
      "dW1:\n",
      " [[ 0.07918554 -0.04402687  0.00689487]\n",
      " [-0.02175084 -0.01893417  0.0332684 ]\n",
      " [ 0.02934355  0.02554365 -0.04488162]\n",
      " [ 0.14972284 -0.07319003  0.00164142]] \n",
      "db1:\n",
      " [[-0.05961931]\n",
      " [-0.11048817]\n",
      " [ 0.14905704]\n",
      " [-0.07161341]]\n",
      "-------------------------\n",
      "\n",
      "\n",
      "update_parameters:\n",
      "Updated W1:\n",
      " [[-1.48644054 -0.71544152 -0.46132826]\n",
      " [ 1.05929731  0.34551171 -1.766367  ]\n",
      " [ 0.32114961 -0.38763665 -0.67243384]\n",
      " [ 0.596704    1.03831853  0.93111598]] \n",
      "Updated b1:\n",
      " [[-0.83325559]\n",
      " [-0.29816356]\n",
      " [ 0.31635773]\n",
      " [ 0.98270647]]\n"
     ]
    }
   ],
   "source": [
    "np.random.seed(42)\n",
    "A_prev = np.random.randn(3, 2)\n",
    "W = np.random.randn(4, 3)\n",
    "b = np.random.randn(4, 1)\n",
    "Z = np.dot(W, A_prev) + b\n",
    "\n",
    "# simulate dA for testing\n",
    "dA = np.random.randn(4, 2)\n",
    "Y = np.array([[1, 0], [0, 1], [0, 0], [0, 0]])  # one-hot labels\n",
    "AL = np.array([[0.8, 0.1], [0.1, 0.8], [0.05, 0.05], [0.05, 0.05]])\n",
    "\n",
    "linear_cache = (A_prev, W, b)\n",
    "activation_cache = Z\n",
    "cache = {\"linear_cache\": linear_cache, \"activation_cache\": activation_cache}\n",
    "\n",
    "\n",
    "\n",
    "\n",
    "dZ = np.random.randn(4, 2)\n",
    "dA_prev, dW, db = linear_backward(dZ, linear_cache)\n",
    "print(\"linear_backward:\\ndA_prev:\\n\", dA_prev, \"\\ndW:\\n\", dW, \"\\ndb:\\n\", db)\n",
    "\n",
    "print(\"-------------------------\")\n",
    "print ('\\n')\n",
    "\n",
    "dZ_relu = relu_backward(dA, activation_cache)\n",
    "print(\"relu_backward:\\ndZ:\\n\", dZ_relu)\n",
    "\n",
    "print(\"-------------------------\")\n",
    "print ('\\n')\n",
    "\n",
    "dZ_softmax = softmax_backward(AL - Y, activation_cache)\n",
    "print(\"softmax_backward:\\ndZ:\\n\", dZ_softmax)\n",
    "\n",
    "print(\"-------------------------\")\n",
    "print ('\\n')\n",
    "\n",
    "dA_prev_la, dW_la, db_la = linear_activation_backward(dA, (linear_cache, activation_cache), \"relu\")\n",
    "print(\"linear_activation_backward (ReLU):\\ndA_prev:\\n\", dA_prev_la, \"\\ndW:\\n\", dW_la, \"\\ndb:\\n\", db_la)\n",
    "\n",
    "\n",
    "print(\"-------------------------\")\n",
    "print ('\\n')\n",
    "\n",
    "# simulate forward caches\n",
    "# Layer 1 cache (3 -> 4)\n",
    "A1 = np.random.randn(3, 2)\n",
    "W1 = np.random.randn(4, 3)\n",
    "b1 = np.random.randn(4, 1)\n",
    "Z1 = np.dot(W1, A1) + b1\n",
    "cache1 = {\n",
    "    \"linear_cache\": (A1, W1, b1),\n",
    "    \"activation_cache\": Z1\n",
    "}\n",
    "\n",
    "# Layer 2 cache (4 -> 2)\n",
    "A2 = np.random.randn(4, 2)\n",
    "W2 = np.random.randn(2, 4)\n",
    "b2 = np.random.randn(2, 1)\n",
    "Z2 = np.dot(W2, A2) + b2\n",
    "cache2 = {\n",
    "    \"linear_cache\": (A2, W2, b2),\n",
    "    \"activation_cache\": Z2\n",
    "}\n",
    "\n",
    "# Simulate softmax output and labels\n",
    "AL = np.array([[0.7, 0.1], [0.3, 0.9]])\n",
    "Y = np.array([[1, 0], [0, 1]])\n",
    "\n",
    "caches = [cache1, cache2] \n",
    "grads = l_model_backward(AL, Y, caches)\n",
    "print(\"l_model_backward:\\ndW1:\\n\", grads[\"dW1\"], \"\\ndb1:\\n\", grads[\"db1\"])\n",
    "\n",
    "print(\"-------------------------\")\n",
    "print ('\\n')\n",
    "\n",
    "parameters = {\n",
    "    \"W1\": np.copy(W1),\n",
    "    \"b1\": np.copy(b1),\n",
    "    \"W2\": np.copy(W2),\n",
    "    \"b2\": np.copy(b2),\n",
    "}\n",
    "\n",
    "grads = {\n",
    "    \"dW1\": grads[\"dW1\"],\n",
    "    \"db1\": grads[\"db1\"],\n",
    "    \"dW2\": grads[\"dW2\"],\n",
    "    \"db2\": grads[\"db2\"],\n",
    "}\n",
    "updated = update_parameters(parameters, grads, 0.1)\n",
    "print(\"update_parameters:\\nUpdated W1:\\n\", updated[\"W1\"], \"\\nUpdated b1:\\n\", updated[\"b1\"])\n"
   ]
  },
  {
   "cell_type": "markdown",
   "metadata": {},
   "source": [
    "**Part 3**"
   ]
  },
  {
   "cell_type": "code",
   "execution_count": 80,
   "metadata": {},
   "outputs": [],
   "source": [
    "def l_layer_model(X, Y, layer_dims, learning_rate=0.009, num_iterations=3000, use_batchnorm=False,\n",
    "                  print_cost=True, X_val=None, Y_val=None, batch_size=None, early_stopping_rounds=100):\n",
    "    \"\"\"\n",
    "    Trains a deep neural network with optional batchnorm, mini-batch support, and early stopping.\n",
    "\n",
    "    Returns:\n",
    "    parameters -- trained weights and biases\n",
    "    costs -- cost values (every 100 steps)\n",
    "    val_accuracies -- validation accuracy (every 100 steps)\n",
    "    num_epochs -- total number of full data passes (estimated)\n",
    "    best_iteration -- index where early stopping occurred\n",
    "    \"\"\"\n",
    "    np.random.seed(42)\n",
    "    costs = []\n",
    "    val_accuracies = []\n",
    "\n",
    "    parameters = initialize_parameters(layer_dims)\n",
    "\n",
    "    m = X.shape[1]\n",
    "    if batch_size is None:\n",
    "        batch_size = m  # full-batch gradient descent\n",
    "\n",
    "    best_val_acc = 0\n",
    "    best_iteration = 0\n",
    "    no_improve_counter = 0\n",
    "    total_iterations = 0\n",
    "\n",
    "    for i in range(1, num_iterations + 1):\n",
    "        # === Mini-batch selection ===\n",
    "        idx = np.random.choice(m, batch_size, replace=False)\n",
    "        X_batch = X[:, idx]\n",
    "        Y_batch = Y[:, idx]\n",
    "\n",
    "        # === Forward pass ===\n",
    "        AL, caches = l_model_forward(X_batch, parameters, use_batchnorm)\n",
    "        cost = compute_cost(AL, Y_batch)\n",
    "\n",
    "        # === Backward pass ===\n",
    "        grads = l_model_backward(AL, Y_batch, caches)\n",
    "\n",
    "        # === Update ===\n",
    "        parameters = update_parameters(parameters, grads, learning_rate)\n",
    "\n",
    "        # === Track cost and validation ===\n",
    "        if i % 100 == 0:\n",
    "            costs.append(cost)\n",
    "            val_acc = predict(X_val, Y_val, parameters) if X_val is not None else None\n",
    "            val_accuracies.append(val_acc)\n",
    "\n",
    "            if print_cost:\n",
    "                print(f\"Iteration {i}: Cost = {cost:.4f}\", end=\"\")\n",
    "                if val_acc is not None:\n",
    "                    print(f\" | Val Acc = {val_acc * 100:.2f}%\")\n",
    "                else:\n",
    "                    print()\n",
    "\n",
    "            # === Early stopping check ===\n",
    "            if val_acc is not None:\n",
    "                if val_acc > best_val_acc + 1e-5:  # small threshold for \"improvement\"\n",
    "                    best_val_acc = val_acc\n",
    "                    best_iteration = i\n",
    "                    no_improve_counter = 0\n",
    "                else:\n",
    "                    no_improve_counter += 100\n",
    "                    if no_improve_counter >= early_stopping_rounds:\n",
    "                        print(f\"\\n Early stopping at iteration {i} (no improvement for {early_stopping_rounds} steps)\")\n",
    "                        break\n",
    "\n",
    "        total_iterations = i\n",
    "\n",
    "    # Epoch estimation\n",
    "    num_epochs = total_iterations * batch_size / m\n",
    "\n",
    "    return parameters, costs, val_accuracies, num_epochs, best_iteration\n",
    "\n"
   ]
  },
  {
   "cell_type": "code",
   "execution_count": 51,
   "metadata": {},
   "outputs": [],
   "source": [
    "def predict(X, Y, parameters):\n",
    "    \"\"\"\n",
    "    Predicts labels for given input X and compares to true labels Y.\n",
    "\n",
    "    Arguments:\n",
    "    X -- input data of shape (input size, number of examples)\n",
    "    Y -- true one-hot encoded labels (num_classes, number of examples)\n",
    "    parameters -- trained parameters dictionary\n",
    "\n",
    "    Returns:\n",
    "    accuracy -- prediction accuracy (0 to 1)\n",
    "    \"\"\"\n",
    "    # Forward pass\n",
    "    AL, _ = l_model_forward(X, parameters, use_batchnorm=False)  # don't apply BN during inference\n",
    "\n",
    "    # Predicted class = index of max probability\n",
    "    predictions = np.argmax(AL, axis=0)\n",
    "    true_labels = np.argmax(Y, axis=0)\n",
    "\n",
    "    accuracy = np.mean(predictions == true_labels)\n",
    "    return accuracy\n"
   ]
  },
  {
   "cell_type": "code",
   "execution_count": 38,
   "metadata": {},
   "outputs": [],
   "source": [
    "import matplotlib.pyplot as plt"
   ]
  },
  {
   "cell_type": "markdown",
   "metadata": {},
   "source": [
    "**Tests for part 3**"
   ]
  },
  {
   "cell_type": "code",
   "execution_count": 47,
   "metadata": {},
   "outputs": [
    {
     "name": "stdout",
     "output_type": "stream",
     "text": [
      "Cost after iteration 100: 1.093585\n",
      "Cost after iteration 200: 1.093245\n",
      "Cost after iteration 300: 1.092528\n",
      "Cost after iteration 400: 1.084721\n",
      "Cost after iteration 500: 0.617593\n",
      "\n",
      "✅ Fake training accuracy: 70.00%\n"
     ]
    },
    {
     "data": {
      "image/png": "[encoded data removed]",
      "text/plain": [
       "<Figure size 640x480 with 1 Axes>"
      ]
     },
     "metadata": {},
     "output_type": "display_data"
    }
   ],
   "source": [
    "# === Sanity Check for l_layer_model + predict ===\n",
    "\n",
    "np.random.seed(42)\n",
    "\n",
    "# Fake data: 784 features, 3 classes, 50 examples\n",
    "X_fake = np.random.randn(784, 50)\n",
    "Y_labels = np.random.randint(0, 3, 50)\n",
    "\n",
    "# One-hot encode labels\n",
    "Y_fake = np.zeros((3, 50))\n",
    "Y_fake[Y_labels, np.arange(50)] = 1\n",
    "\n",
    "# Define simple network structure\n",
    "layer_dims = [784, 20, 10, 3]  # 2 hidden layers + 3-class output\n",
    "\n",
    "# Train model\n",
    "parameters, costs = l_layer_model(X_fake, Y_fake, layer_dims, learning_rate=0.05, num_iterations=500, use_batchnorm=False)\n",
    "\n",
    "# Predict\n",
    "acc = predict(X_fake, Y_fake, parameters)\n",
    "print(f\"\\n✅ Fake training accuracy: {acc * 100:.2f}%\")\n",
    "\n",
    "# Optional: plot cost\n",
    "\n",
    "plt.plot(costs)\n",
    "plt.title(\"Cost over iterations (Sanity Check)\")\n",
    "plt.xlabel(\"Iteration (x100)\")\n",
    "plt.ylabel(\"Cost\")\n",
    "plt.show()\n"
   ]
  },
  {
   "cell_type": "markdown",
   "metadata": {},
   "source": [
    "**Part 4**"
   ]
  },
  {
   "cell_type": "markdown",
   "metadata": {},
   "source": [
    "**Loading the MNIST Dataset**"
   ]
  },
  {
   "cell_type": "code",
   "execution_count": 62,
   "metadata": {},
   "outputs": [
    {
     "name": "stdout",
     "output_type": "stream",
     "text": [
      "X_train shape: (784, 50000), Y_train shape: (10, 50000)\n",
      "X_val shape: (784, 10000), Y_val shape: (10, 10000)\n",
      "X_test shape: (784, 10000), Y_test shape: (10, 10000)\n"
     ]
    }
   ],
   "source": [
    "from sklearn.datasets import fetch_openml\n",
    "from sklearn.model_selection import train_test_split\n",
    "from sklearn.preprocessing import OneHotEncoder\n",
    "\n",
    "# 1. Load MNIST from OpenML\n",
    "mnist = fetch_openml(\"mnist_784\", version=1, as_frame=False)\n",
    "X, y = mnist[\"data\"], mnist[\"target\"].astype(np.int64)\n",
    "\n",
    "# 2. Normalize pixel values\n",
    "X = X / 255.0  # shape: (70000, 784)\n",
    "\n",
    "# 3. Train/val/test split (60k train, 10k test, and 10k from train for val)\n",
    "X_train_full, X_test, y_train_full, y_test = train_test_split(X, y, test_size=10000, random_state=42)\n",
    "X_train, X_val, y_train, y_val = train_test_split(X_train_full, y_train_full, test_size=10000, random_state=42)\n",
    "\n",
    "# 4. One-hot encode the labels\n",
    "encoder = OneHotEncoder(sparse_output=False)\n",
    "Y_train = encoder.fit_transform(y_train.reshape(-1, 1)).T  # shape: (10, num_examples)\n",
    "Y_val = encoder.transform(y_val.reshape(-1, 1)).T\n",
    "Y_test = encoder.transform(y_test.reshape(-1, 1)).T\n",
    "\n",
    "# 5. Transpose inputs to shape: (features, examples)\n",
    "X_train = X_train.T  # shape: (784, num_examples)\n",
    "X_val = X_val.T\n",
    "X_test = X_test.T\n",
    "\n",
    "print(f\"X_train shape: {X_train.shape}, Y_train shape: {Y_train.shape}\")\n",
    "print(f\"X_val shape: {X_val.shape}, Y_val shape: {Y_val.shape}\")\n",
    "print(f\"X_test shape: {X_test.shape}, Y_test shape: {Y_test.shape}\")\n"
   ]
  },
  {
   "cell_type": "code",
   "execution_count": 81,
   "metadata": {},
   "outputs": [
    {
     "name": "stdout",
     "output_type": "stream",
     "text": [
      "Iteration 100: Cost = 1.9028 | Val Acc = 39.26%\n",
      "Iteration 200: Cost = 1.4118 | Val Acc = 60.81%\n",
      "Iteration 300: Cost = 1.0447 | Val Acc = 76.09%\n",
      "Iteration 400: Cost = 0.7501 | Val Acc = 83.07%\n",
      "Iteration 500: Cost = 0.5952 | Val Acc = 84.89%\n",
      "Iteration 600: Cost = 0.5637 | Val Acc = 86.31%\n",
      "Iteration 700: Cost = 0.4485 | Val Acc = 87.37%\n",
      "Iteration 800: Cost = 0.4400 | Val Acc = 87.95%\n",
      "Iteration 900: Cost = 0.3841 | Val Acc = 88.65%\n",
      "Iteration 1000: Cost = 0.2982 | Val Acc = 88.88%\n",
      "Iteration 1100: Cost = 0.3261 | Val Acc = 89.42%\n",
      "Iteration 1200: Cost = 0.3876 | Val Acc = 89.56%\n",
      "Iteration 1300: Cost = 0.3795 | Val Acc = 89.83%\n",
      "Iteration 1400: Cost = 0.2674 | Val Acc = 90.16%\n",
      "Iteration 1500: Cost = 0.3060 | Val Acc = 90.30%\n",
      "Iteration 1600: Cost = 0.2916 | Val Acc = 90.63%\n",
      "Iteration 1700: Cost = 0.2262 | Val Acc = 90.79%\n",
      "Iteration 1800: Cost = 0.2807 | Val Acc = 90.94%\n",
      "Iteration 1900: Cost = 0.3011 | Val Acc = 91.21%\n",
      "Iteration 2000: Cost = 0.3222 | Val Acc = 91.34%\n",
      "Iteration 2100: Cost = 0.3113 | Val Acc = 91.50%\n",
      "Iteration 2200: Cost = 0.2450 | Val Acc = 91.60%\n",
      "Iteration 2300: Cost = 0.3242 | Val Acc = 91.73%\n",
      "Iteration 2400: Cost = 0.2931 | Val Acc = 91.80%\n",
      "Iteration 2500: Cost = 0.3004 | Val Acc = 92.04%\n",
      "Iteration 2600: Cost = 0.3298 | Val Acc = 92.16%\n",
      "Iteration 2700: Cost = 0.3001 | Val Acc = 92.35%\n",
      "Iteration 2800: Cost = 0.2581 | Val Acc = 92.33%\n",
      "\n",
      " Early stopping at iteration 2800 (no improvement for 100 steps)\n",
      "Total epochs: 14.33\n",
      "Best iteration: 2700\n"
     ]
    }
   ],
   "source": [
    "parameters, costs, val_accuracies, epochs, best_iter = l_layer_model(\n",
    "    X_train, Y_train,\n",
    "    #layer_dims=[784, 20, 7, 5, 10],\n",
    "    layer_dims=[784, 64, 32, 16, 10], # Not sure is its allowed.\n",
    "    learning_rate=0.009,\n",
    "    num_iterations=10000,\n",
    "    batch_size=256,\n",
    "    use_batchnorm=False,\n",
    "    X_val=X_val,\n",
    "    Y_val=Y_val\n",
    ")\n",
    "\n",
    "print(f\"Total epochs: {epochs:.2f}\")\n",
    "print(f\"Best iteration: {best_iter}\")\n",
    "\n"
   ]
  },
  {
   "cell_type": "code",
   "execution_count": 84,
   "metadata": {},
   "outputs": [
    {
     "data": {
      "image/png": "[encoded data removed]",
      "text/plain": [
       "<Figure size 1200x500 with 2 Axes>"
      ]
     },
     "metadata": {},
     "output_type": "display_data"
    }
   ],
   "source": [
    "# Plot cost\n",
    "plt.figure(figsize=(12, 5))\n",
    "plt.subplot(1, 2, 1)\n",
    "plt.plot(np.arange(0, len(costs)) * 100, costs)\n",
    "plt.title(\"Cost over iterations\")\n",
    "plt.xlabel(\"Iteration\")\n",
    "plt.ylabel(\"Cost\")\n",
    "plt.grid()\n",
    "\n",
    "# Plot val accuracy\n",
    "plt.subplot(1, 2, 2)\n",
    "plt.plot(np.arange(0, len(val_accuracies)) * 100, np.array(val_accuracies) * 100)\n",
    "plt.title(\"Validation Accuracy over iterations\")\n",
    "plt.xlabel(\"Iteration\")\n",
    "plt.ylabel(\"Accuracy (%)\")\n",
    "plt.grid()\n",
    "plt.tight_layout()\n",
    "plt.show()\n"
   ]
  },
  {
   "cell_type": "code",
   "execution_count": 85,
   "metadata": {},
   "outputs": [],
   "source": [
    "def test_model(parameters, X_train, Y_train, X_val, Y_val, X_test, Y_test):\n",
    "    train_acc = predict(X_train, Y_train, parameters)\n",
    "    val_acc = predict(X_val, Y_val, parameters)\n",
    "    test_acc = predict(X_test, Y_test, parameters)\n",
    "\n",
    "    print(f\"Final Accuracy Summary:\")\n",
    "    print(f\"Train Accuracy:      {train_acc * 100:.2f}%\")\n",
    "    print(f\"Validation Accuracy: {val_acc * 100:.2f}%\")\n",
    "    print(f\"Test Accuracy:       {test_acc * 100:.2f}%\")\n",
    "\n",
    "    return train_acc, val_acc, test_acc\n"
   ]
  },
  {
   "cell_type": "code",
   "execution_count": 91,
   "metadata": {},
   "outputs": [
    {
     "name": "stdout",
     "output_type": "stream",
     "text": [
      "Final Accuracy Summary:\n",
      "Train Accuracy:      92.66%\n",
      "Validation Accuracy: 92.33%\n",
      "Test Accuracy:       92.45%\n"
     ]
    },
    {
     "data": {
      "image/png": "[encoded data removed]",
      "text/plain": [
       "<Figure size 600x500 with 1 Axes>"
      ]
     },
     "metadata": {},
     "output_type": "display_data"
    }
   ],
   "source": [
    "train_acc, val_acc, test_acc = test_model(parameters, X_train, Y_train, X_val, Y_val, X_test, Y_test)\n",
    "\n",
    "# Bar plot of final accuracies\n",
    "labels = ['Train', 'Validation', 'Test']\n",
    "accuracies = [train_acc * 100, val_acc * 100, test_acc * 100]\n",
    "colors = ['blue', 'orange', 'green']\n",
    "\n",
    "plt.figure(figsize=(6, 5))\n",
    "bars = plt.bar(labels, accuracies, color=colors)\n",
    "\n",
    "# Add text labels above each bar\n",
    "for bar, acc in zip(bars, accuracies):\n",
    "    yval = bar.get_height()\n",
    "    plt.text(bar.get_x() + bar.get_width()/2.0, yval + 1, f\"{acc:.2f}%\", ha='center', va='bottom', fontsize=10)\n",
    "\n",
    "plt.title(\"Final Accuracy Comparison\")\n",
    "plt.ylabel(\"Accuracy (%)\")\n",
    "plt.ylim(0, 100)\n",
    "plt.grid(True)\n",
    "plt.show()\n"
   ]
  },
  {
   "cell_type": "markdown",
   "metadata": {},
   "source": [
    "**Part 5**"
   ]
  }
 ],
 "metadata": {
  "kernelspec": {
   "display_name": "Python 3",
   "language": "python",
   "name": "python3"
  },
  "language_info": {
   "codemirror_mode": {
    "name": "ipython",
    "version": 3
   },
   "file_extension": ".py",
   "mimetype": "text/x-python",
   "name": "python",
   "nbconvert_exporter": "python",
   "pygments_lexer": "ipython3",
   "version": "3.11.9"
  }
 },
 "nbformat": 4,
 "nbformat_minor": 2
}

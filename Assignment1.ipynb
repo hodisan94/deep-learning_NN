{
 "cells": [
  {
   "cell_type": "code",
   "execution_count": 4,
   "metadata": {},
   "outputs": [],
   "source": [
    "import numpy as np\n",
    "\n",
    "def initialize_parameters(layer_dims):\n",
    "    np.random.seed(42)  # For reproducibility\n",
    "    parameters = {}\n",
    "    L = len(layer_dims)\n",
    "    \n",
    "    # Loop through layers to initialize weights and biases\n",
    "    for l in range(1, L):\n",
    "        parameters[f\"W{l}\"] = np.random.randn(layer_dims[l], layer_dims[l - 1]) * 0.01\n",
    "        parameters[f\"b{l}\"] = np.zeros((layer_dims[l], 1))\n",
    "        \n",
    "    return parameters\n"
   ]
  },
  {
   "cell_type": "markdown",
   "metadata": {},
   "source": [
    "# Test the function\n"
   ]
  },
  {
   "cell_type": "code",
   "execution_count": 6,
   "metadata": {},
   "outputs": [
    {
     "name": "stdout",
     "output_type": "stream",
     "text": [
      "(20, 784)\n",
      "(20, 1)\n",
      "(10, 5)\n",
      "(10, 1)\n"
     ]
    }
   ],
   "source": [
    "layer_dims = [784, 20, 7, 5, 10]\n",
    "parameters = initialize_parameters(layer_dims)\n",
    "print(parameters[\"W1\"].shape)  # Should print (20, 784)\n",
    "print(parameters[\"b1\"].shape)  # Should print (20, 1)\n",
    "print(parameters[\"W4\"].shape)  # Should print (10, 5)\n",
    "print(parameters[\"b4\"].shape)  # Should print (10, 1)\n"
   ]
  }
 ],
 "metadata": {
  "kernelspec": {
   "display_name": "Python 3",
   "language": "python",
   "name": "python3"
  },
  "language_info": {
   "codemirror_mode": {
    "name": "ipython",
    "version": 3
   },
   "file_extension": ".py",
   "mimetype": "text/x-python",
   "name": "python",
   "nbconvert_exporter": "python",
   "pygments_lexer": "ipython3",
   "version": "3.11.9"
  }
 },
 "nbformat": 4,
 "nbformat_minor": 2
}
